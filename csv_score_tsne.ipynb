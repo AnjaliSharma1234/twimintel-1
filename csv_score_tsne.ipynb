{
  "nbformat": 4,
  "nbformat_minor": 0,
  "metadata": {
    "colab": {
      "name": "csv.ipynb",
      "provenance": []
    },
    "kernelspec": {
      "name": "python3",
      "display_name": "Python 3"
    }
  },
  "cells": [
    {
      "cell_type": "code",
      "metadata": {
        "id": "z-BS9g6npmEl",
        "colab_type": "code",
        "colab": {}
      },
      "source": [
        "import pandas as pd\n",
        "import warnings\n",
        "import numpy\n",
        "import gensim\n",
        "from gensim import corpora, models\n",
        "from gensim.models import word2vec\n",
        "\n",
        "import nltk\n",
        "import re\n",
        "import csv\n",
        "from nltk.corpus import stopwords\n",
        "import numpy as np\n",
        "from gensim.models import Doc2Vec\n",
        "from gensim.models.doc2vec import LabeledSentence\n",
        "from gensim.models.doc2vec import TaggedDocument\n",
        "from gensim.test.utils import common_texts\n",
        "from sklearn.manifold import TSNE\n",
        "import matplotlib.pyplot as plt\n",
        "%matplotlib inline"
      ],
      "execution_count": 0,
      "outputs": []
    },
    {
      "cell_type": "code",
      "metadata": {
        "id": "xPW-_dNErG3e",
        "colab_type": "code",
        "outputId": "92dff65e-b080-499b-98e2-6a05e814ad0c",
        "colab": {
          "base_uri": "https://localhost:8080/",
          "height": 272
        }
      },
      "source": [
        "df=pd.read_csv(\"/content/preprocessed.csv\",encoding = 'unicode_escape')\n",
        "df= df.loc[:, ~df.columns.str.contains('^Unnamed')]\n",
        "df.head()"
      ],
      "execution_count": 2,
      "outputs": [
        {
          "output_type": "execute_result",
          "data": {
            "text/html": [
              "<div>\n",
              "<style scoped>\n",
              "    .dataframe tbody tr th:only-of-type {\n",
              "        vertical-align: middle;\n",
              "    }\n",
              "\n",
              "    .dataframe tbody tr th {\n",
              "        vertical-align: top;\n",
              "    }\n",
              "\n",
              "    .dataframe thead th {\n",
              "        text-align: right;\n",
              "    }\n",
              "</style>\n",
              "<table border=\"1\" class=\"dataframe\">\n",
              "  <thead>\n",
              "    <tr style=\"text-align: right;\">\n",
              "      <th></th>\n",
              "      <th>problems</th>\n",
              "      <th>keywords</th>\n",
              "      <th>urls</th>\n",
              "      <th>contents</th>\n",
              "      <th>target</th>\n",
              "    </tr>\n",
              "  </thead>\n",
              "  <tbody>\n",
              "    <tr>\n",
              "      <th>0</th>\n",
              "      <td>Understand the virtual banking landscape of So...</td>\n",
              "      <td>virtual banks, south korea, k bank, kakao bank...</td>\n",
              "      <td>https://krw.currencyrate.today/usd/18064</td>\n",
              "      <td>\\nThe page provides the exchange rate of 18064...</td>\n",
              "      <td>valid</td>\n",
              "    </tr>\n",
              "    <tr>\n",
              "      <th>1</th>\n",
              "      <td>Understand the depth of Covid-19 crisis in a c...</td>\n",
              "      <td>virus, epidemic, outbreak, company performance...</td>\n",
              "      <td>https://krw.currencyrate.today/usd/18064</td>\n",
              "      <td>Convert currency 18064 KRW to USD. How much is...</td>\n",
              "      <td>valid</td>\n",
              "    </tr>\n",
              "    <tr>\n",
              "      <th>2</th>\n",
              "      <td>What is webank china? I need to understand the...</td>\n",
              "      <td>Webank, China, Technology, virtual bank, weban...</td>\n",
              "      <td>https://krw.currencyrate.today/usd/18064</td>\n",
              "      <td>\\nSouth Korean Won\\n\\n18064 KRW\\n=\\n14.91 USD\\...</td>\n",
              "      <td>valid</td>\n",
              "    </tr>\n",
              "    <tr>\n",
              "      <th>3</th>\n",
              "      <td>What is mybank china? I need to understand the...</td>\n",
              "      <td>Mybank, China, Technology, virtual bank, Myban...</td>\n",
              "      <td>https://krw.currencyrate.today/usd/18064</td>\n",
              "      <td>\\n        ?18064.00 = $14.91</td>\n",
              "      <td>valid</td>\n",
              "    </tr>\n",
              "    <tr>\n",
              "      <th>4</th>\n",
              "      <td>NaN</td>\n",
              "      <td>NaN</td>\n",
              "      <td>https://krw.currencyrate.today/usd/18064</td>\n",
              "      <td>\\n\\n        Inverse: 18064.00 USD = 21889955.2...</td>\n",
              "      <td>valid</td>\n",
              "    </tr>\n",
              "  </tbody>\n",
              "</table>\n",
              "</div>"
            ],
            "text/plain": [
              "                                            problems  ... target\n",
              "0  Understand the virtual banking landscape of So...  ...  valid\n",
              "1  Understand the depth of Covid-19 crisis in a c...  ...  valid\n",
              "2  What is webank china? I need to understand the...  ...  valid\n",
              "3  What is mybank china? I need to understand the...  ...  valid\n",
              "4                                                NaN  ...  valid\n",
              "\n",
              "[5 rows x 5 columns]"
            ]
          },
          "metadata": {
            "tags": []
          },
          "execution_count": 2
        }
      ]
    },
    {
      "cell_type": "code",
      "metadata": {
        "id": "vETPcPk1sMM9",
        "colab_type": "code",
        "outputId": "f1e755c4-41d9-4f25-e87c-4b08bc813410",
        "colab": {
          "base_uri": "https://localhost:8080/",
          "height": 204
        }
      },
      "source": [
        "data=df.drop(['problems','urls'],axis=1)\n",
        "data.head()"
      ],
      "execution_count": 91,
      "outputs": [
        {
          "output_type": "execute_result",
          "data": {
            "text/html": [
              "<div>\n",
              "<style scoped>\n",
              "    .dataframe tbody tr th:only-of-type {\n",
              "        vertical-align: middle;\n",
              "    }\n",
              "\n",
              "    .dataframe tbody tr th {\n",
              "        vertical-align: top;\n",
              "    }\n",
              "\n",
              "    .dataframe thead th {\n",
              "        text-align: right;\n",
              "    }\n",
              "</style>\n",
              "<table border=\"1\" class=\"dataframe\">\n",
              "  <thead>\n",
              "    <tr style=\"text-align: right;\">\n",
              "      <th></th>\n",
              "      <th>keywords</th>\n",
              "      <th>contents</th>\n",
              "      <th>target</th>\n",
              "    </tr>\n",
              "  </thead>\n",
              "  <tbody>\n",
              "    <tr>\n",
              "      <th>0</th>\n",
              "      <td>virtual banks, south korea, k bank, kakao bank...</td>\n",
              "      <td>\\nThe page provides the exchange rate of 18064...</td>\n",
              "      <td>valid</td>\n",
              "    </tr>\n",
              "    <tr>\n",
              "      <th>1</th>\n",
              "      <td>virus, epidemic, outbreak, company performance...</td>\n",
              "      <td>Convert currency 18064 KRW to USD. How much is...</td>\n",
              "      <td>valid</td>\n",
              "    </tr>\n",
              "    <tr>\n",
              "      <th>2</th>\n",
              "      <td>Webank, China, Technology, virtual bank, weban...</td>\n",
              "      <td>\\nSouth Korean Won\\n\\n18064 KRW\\n=\\n14.91 USD\\...</td>\n",
              "      <td>valid</td>\n",
              "    </tr>\n",
              "    <tr>\n",
              "      <th>3</th>\n",
              "      <td>Mybank, China, Technology, virtual bank, Myban...</td>\n",
              "      <td>\\n        ?18064.00 = $14.91</td>\n",
              "      <td>valid</td>\n",
              "    </tr>\n",
              "    <tr>\n",
              "      <th>4</th>\n",
              "      <td>NaN</td>\n",
              "      <td>\\n\\n        Inverse: 18064.00 USD = 21889955.2...</td>\n",
              "      <td>valid</td>\n",
              "    </tr>\n",
              "  </tbody>\n",
              "</table>\n",
              "</div>"
            ],
            "text/plain": [
              "                                            keywords  ... target\n",
              "0  virtual banks, south korea, k bank, kakao bank...  ...  valid\n",
              "1  virus, epidemic, outbreak, company performance...  ...  valid\n",
              "2  Webank, China, Technology, virtual bank, weban...  ...  valid\n",
              "3  Mybank, China, Technology, virtual bank, Myban...  ...  valid\n",
              "4                                                NaN  ...  valid\n",
              "\n",
              "[5 rows x 3 columns]"
            ]
          },
          "metadata": {
            "tags": []
          },
          "execution_count": 91
        }
      ]
    },
    {
      "cell_type": "markdown",
      "metadata": {
        "id": "-9wTGbWNwSjB",
        "colab_type": "text"
      },
      "source": [
        "Preprocessing 1 ---\n",
        "removing special character by regex"
      ]
    },
    {
      "cell_type": "code",
      "metadata": {
        "id": "Sj3f9-XHwR5m",
        "colab_type": "code",
        "colab": {}
      },
      "source": [
        "contraction_mapping = {\"ain't\": \"is not\", \"aren't\": \"are not\",\"can't\": \"cannot\", \"'cause\": \"because\", \"could've\": \"could have\", \"couldn't\": \"could not\",\n",
        "\n",
        "                           \"didn't\": \"did not\", \"doesn't\": \"does not\", \"don't\": \"do not\", \"hadn't\": \"had not\", \"hasn't\": \"has not\", \"haven't\": \"have not\",\n",
        "\n",
        "                           \"he'd\": \"he would\",\"he'll\": \"he will\", \"he's\": \"he is\", \"how'd\": \"how did\", \"how'd'y\": \"how do you\", \"how'll\": \"how will\", \"how's\": \"how is\",\n",
        "\n",
        "                           \"I'd\": \"I would\", \"I'd've\": \"I would have\", \"I'll\": \"I will\", \"I'll've\": \"I will have\",\"I'm\": \"I am\", \"I've\": \"I have\", \"i'd\": \"i would\",\n",
        "\n",
        "                           \"i'd've\": \"i would have\", \"i'll\": \"i will\",  \"i'll've\": \"i will have\",\"i'm\": \"i am\", \"i've\": \"i have\", \"isn't\": \"is not\", \"it'd\": \"it would\",\n",
        "\n",
        "                           \"it'd've\": \"it would have\", \"it'll\": \"it will\", \"it'll've\": \"it will have\",\"it's\": \"it is\", \"let's\": \"let us\", \"ma'am\": \"madam\",\n",
        "\n",
        "                           \"mayn't\": \"may not\", \"might've\": \"might have\",\"mightn't\": \"might not\",\"mightn't've\": \"might not have\", \"must've\": \"must have\",\n",
        "\n",
        "                           \"mustn't\": \"must not\", \"mustn't've\": \"must not have\", \"needn't\": \"need not\", \"needn't've\": \"need not have\",\"o'clock\": \"of the clock\",\n",
        "\n",
        "                           \"oughtn't\": \"ought not\", \"oughtn't've\": \"ought not have\", \"shan't\": \"shall not\", \"sha'n't\": \"shall not\", \"shan't've\": \"shall not have\",\n",
        "\n",
        "                           \"she'd\": \"she would\", \"she'd've\": \"she would have\", \"she'll\": \"she will\", \"she'll've\": \"she will have\", \"she's\": \"she is\",\n",
        "\n",
        "                           \"should've\": \"should have\", \"shouldn't\": \"should not\", \"shouldn't've\": \"should not have\", \"so've\": \"so have\",\"so's\": \"so as\",\n",
        "\n",
        "                           \"this's\": \"this is\",\"that'd\": \"that would\", \"that'd've\": \"that would have\", \"that's\": \"that is\", \"there'd\": \"there would\",\n",
        "\n",
        "                           \"there'd've\": \"there would have\", \"there's\": \"there is\", \"here's\": \"here is\",\"they'd\": \"they would\", \"they'd've\": \"they would have\",\n",
        "\n",
        "                           \"they'll\": \"they will\", \"they'll've\": \"they will have\", \"they're\": \"they are\", \"they've\": \"they have\", \"to've\": \"to have\",\n",
        "\n",
        "                           \"wasn't\": \"was not\", \"we'd\": \"we would\", \"we'd've\": \"we would have\", \"we'll\": \"we will\", \"we'll've\": \"we will have\", \"we're\": \"we are\",\n",
        "\n",
        "                           \"we've\": \"we have\", \"weren't\": \"were not\", \"what'll\": \"what will\", \"what'll've\": \"what will have\", \"what're\": \"what are\",\n",
        "\n",
        "                           \"what's\": \"what is\", \"what've\": \"what have\", \"when's\": \"when is\", \"when've\": \"when have\", \"where'd\": \"where did\", \"where's\": \"where is\",\n",
        "\n",
        "                           \"where've\": \"where have\", \"who'll\": \"who will\", \"who'll've\": \"who will have\", \"who's\": \"who is\", \"who've\": \"who have\",\n",
        "\n",
        "                           \"why's\": \"why is\", \"why've\": \"why have\", \"will've\": \"will have\", \"won't\": \"will not\", \"won't've\": \"will not have\",\n",
        "\n",
        "                           \"would've\": \"would have\", \"wouldn't\": \"would not\", \"wouldn't've\": \"would not have\", \"y'all\": \"you all\",\n",
        "\n",
        "                           \"y'all'd\": \"you all would\",\"y'all'd've\": \"you all would have\",\"y'all're\": \"you all are\",\"y'all've\": \"you all have\",\n",
        "\n",
        "                           \"you'd\": \"you would\", \"you'd've\": \"you would have\", \"you'll\": \"you will\", \"you'll've\": \"you will have\",\n",
        "\n",
        "                           \"you're\": \"you are\", \"you've\": \"you have\"}"
      ],
      "execution_count": 0,
      "outputs": []
    },
    {
      "cell_type": "code",
      "metadata": {
        "id": "LyMF7hzg0bU0",
        "colab_type": "code",
        "colab": {}
      },
      "source": [
        "def content_cleaner(text):\n",
        "    newString = re.sub('\"','', str(text))\n",
        "    newString = ' '.join([contraction_mapping[t] if t in contraction_mapping else t for t in newString.split(\" \")])    \n",
        "    newString = re.sub(r\"'s\\b\",\"\",newString)\n",
        "    newString = re.sub(\"[^a-zA-Z]\", \" \", newString)\n",
        "    newString = newString.lower()\n",
        "    tokens=newString.split()\n",
        "    newString=''\n",
        "    \n",
        "    for i in tokens:\n",
        "        if len(i)>1:                                 \n",
        "            newString=newString+i+' '  \n",
        "            #print(newString)\n",
        "    return newString"
      ],
      "execution_count": 0,
      "outputs": []
    },
    {
      "cell_type": "code",
      "metadata": {
        "id": "RwzrJjA30qeb",
        "colab_type": "code",
        "colab": {}
      },
      "source": [
        "#Call the above function\n",
        "cleaned_content = []\n",
        "for t in data['contents']:\n",
        "    cleaned_content.append(content_cleaner(t))\n",
        "\n",
        "\n",
        "data['cleaned_content']=cleaned_content\n",
        "\n",
        "#df.dropna(axis=0,inplace=True)"
      ],
      "execution_count": 0,
      "outputs": []
    },
    {
      "cell_type": "code",
      "metadata": {
        "id": "PQFWJ3ze38To",
        "colab_type": "code",
        "outputId": "07f0222e-3b8c-4b15-ea00-6e42d0efa924",
        "colab": {
          "base_uri": "https://localhost:8080/",
          "height": 221
        }
      },
      "source": [
        "data['cleaned_content']"
      ],
      "execution_count": 94,
      "outputs": [
        {
          "output_type": "execute_result",
          "data": {
            "text/plain": [
              "0       the page provides the exchange rate of south k...\n",
              "1       convert currency krw to usd how much is south ...\n",
              "2                     south korean won krw usd us dollar \n",
              "3                                                        \n",
              "4                inverse usd krw selling krw you get usd \n",
              "                              ...                        \n",
              "2079    two non financial services entities korea fede...\n",
              "2080    with its shareholding structure reshuffled tos...\n",
              "2081    analysts say that toss bank has better chance ...\n",
              "2082    at the same time toss bank does not have much ...\n",
              "2083    sign up for our email newsletter and keep up t...\n",
              "Name: cleaned_content, Length: 2084, dtype: object"
            ]
          },
          "metadata": {
            "tags": []
          },
          "execution_count": 94
        }
      ]
    },
    {
      "cell_type": "code",
      "metadata": {
        "id": "UeE9yORD4l2V",
        "colab_type": "code",
        "outputId": "d26a3829-213e-4476-99ae-7d5ea1800e3d",
        "colab": {
          "base_uri": "https://localhost:8080/",
          "height": 221
        }
      },
      "source": [
        "data['keywords']"
      ],
      "execution_count": 95,
      "outputs": [
        {
          "output_type": "execute_result",
          "data": {
            "text/plain": [
              "0       virtual banks, south korea, k bank, kakao bank...\n",
              "1       virus, epidemic, outbreak, company performance...\n",
              "2       Webank, China, Technology, virtual bank, weban...\n",
              "3       Mybank, China, Technology, virtual bank, Myban...\n",
              "4                                                     NaN\n",
              "                              ...                        \n",
              "2079    Mybank, China, Technology, virtual bank, Myban...\n",
              "2080    Mybank, China, Technology, virtual bank, Myban...\n",
              "2081    Mybank, China, Technology, virtual bank, Myban...\n",
              "2082    Mybank, China, Technology, virtual bank, Myban...\n",
              "2083    Mybank, China, Technology, virtual bank, Myban...\n",
              "Name: keywords, Length: 2084, dtype: object"
            ]
          },
          "metadata": {
            "tags": []
          },
          "execution_count": 95
        }
      ]
    },
    {
      "cell_type": "code",
      "metadata": {
        "id": "bywjoW4V5jjT",
        "colab_type": "code",
        "outputId": "6313666d-019c-4a44-f72e-1393452715c4",
        "colab": {
          "base_uri": "https://localhost:8080/",
          "height": 419
        }
      },
      "source": [
        "data = data.dropna(how=\"any\")\n",
        "data"
      ],
      "execution_count": 96,
      "outputs": [
        {
          "output_type": "execute_result",
          "data": {
            "text/html": [
              "<div>\n",
              "<style scoped>\n",
              "    .dataframe tbody tr th:only-of-type {\n",
              "        vertical-align: middle;\n",
              "    }\n",
              "\n",
              "    .dataframe tbody tr th {\n",
              "        vertical-align: top;\n",
              "    }\n",
              "\n",
              "    .dataframe thead th {\n",
              "        text-align: right;\n",
              "    }\n",
              "</style>\n",
              "<table border=\"1\" class=\"dataframe\">\n",
              "  <thead>\n",
              "    <tr style=\"text-align: right;\">\n",
              "      <th></th>\n",
              "      <th>keywords</th>\n",
              "      <th>contents</th>\n",
              "      <th>target</th>\n",
              "      <th>cleaned_content</th>\n",
              "    </tr>\n",
              "  </thead>\n",
              "  <tbody>\n",
              "    <tr>\n",
              "      <th>0</th>\n",
              "      <td>virtual banks, south korea, k bank, kakao bank...</td>\n",
              "      <td>\\nThe page provides the exchange rate of 18064...</td>\n",
              "      <td>valid</td>\n",
              "      <td>the page provides the exchange rate of south k...</td>\n",
              "    </tr>\n",
              "    <tr>\n",
              "      <th>1</th>\n",
              "      <td>virus, epidemic, outbreak, company performance...</td>\n",
              "      <td>Convert currency 18064 KRW to USD. How much is...</td>\n",
              "      <td>valid</td>\n",
              "      <td>convert currency krw to usd how much is south ...</td>\n",
              "    </tr>\n",
              "    <tr>\n",
              "      <th>2</th>\n",
              "      <td>Webank, China, Technology, virtual bank, weban...</td>\n",
              "      <td>\\nSouth Korean Won\\n\\n18064 KRW\\n=\\n14.91 USD\\...</td>\n",
              "      <td>valid</td>\n",
              "      <td>south korean won krw usd us dollar</td>\n",
              "    </tr>\n",
              "    <tr>\n",
              "      <th>3</th>\n",
              "      <td>Mybank, China, Technology, virtual bank, Myban...</td>\n",
              "      <td>\\n        ?18064.00 = $14.91</td>\n",
              "      <td>valid</td>\n",
              "      <td></td>\n",
              "    </tr>\n",
              "    <tr>\n",
              "      <th>5</th>\n",
              "      <td>virtual banks, south korea, k bank, kakao bank...</td>\n",
              "      <td>\\nThe page provides the exchange rate of 18064...</td>\n",
              "      <td>valid</td>\n",
              "      <td>the page provides the exchange rate of south k...</td>\n",
              "    </tr>\n",
              "    <tr>\n",
              "      <th>...</th>\n",
              "      <td>...</td>\n",
              "      <td>...</td>\n",
              "      <td>...</td>\n",
              "      <td>...</td>\n",
              "    </tr>\n",
              "    <tr>\n",
              "      <th>2079</th>\n",
              "      <td>Mybank, China, Technology, virtual bank, Myban...</td>\n",
              "      <td>Two non-financial services entities, Korea Fed...</td>\n",
              "      <td>valid</td>\n",
              "      <td>two non financial services entities korea fede...</td>\n",
              "    </tr>\n",
              "    <tr>\n",
              "      <th>2080</th>\n",
              "      <td>Mybank, China, Technology, virtual bank, Myban...</td>\n",
              "      <td>With its shareholding structure reshuffled, To...</td>\n",
              "      <td>valid</td>\n",
              "      <td>with its shareholding structure reshuffled tos...</td>\n",
              "    </tr>\n",
              "    <tr>\n",
              "      <th>2081</th>\n",
              "      <td>Mybank, China, Technology, virtual bank, Myban...</td>\n",
              "      <td>Analysts say that Toss Bank has a better chanc...</td>\n",
              "      <td>valid</td>\n",
              "      <td>analysts say that toss bank has better chance ...</td>\n",
              "    </tr>\n",
              "    <tr>\n",
              "      <th>2082</th>\n",
              "      <td>Mybank, China, Technology, virtual bank, Myban...</td>\n",
              "      <td>At the same time, Toss Bank doesn't have much ...</td>\n",
              "      <td>valid</td>\n",
              "      <td>at the same time toss bank does not have much ...</td>\n",
              "    </tr>\n",
              "    <tr>\n",
              "      <th>2083</th>\n",
              "      <td>Mybank, China, Technology, virtual bank, Myban...</td>\n",
              "      <td>Sign up for our email newsletter and keep up t...</td>\n",
              "      <td>valid</td>\n",
              "      <td>sign up for our email newsletter and keep up t...</td>\n",
              "    </tr>\n",
              "  </tbody>\n",
              "</table>\n",
              "<p>2022 rows × 4 columns</p>\n",
              "</div>"
            ],
            "text/plain": [
              "                                               keywords  ...                                    cleaned_content\n",
              "0     virtual banks, south korea, k bank, kakao bank...  ...  the page provides the exchange rate of south k...\n",
              "1     virus, epidemic, outbreak, company performance...  ...  convert currency krw to usd how much is south ...\n",
              "2     Webank, China, Technology, virtual bank, weban...  ...                south korean won krw usd us dollar \n",
              "3     Mybank, China, Technology, virtual bank, Myban...  ...                                                   \n",
              "5     virtual banks, south korea, k bank, kakao bank...  ...  the page provides the exchange rate of south k...\n",
              "...                                                 ...  ...                                                ...\n",
              "2079  Mybank, China, Technology, virtual bank, Myban...  ...  two non financial services entities korea fede...\n",
              "2080  Mybank, China, Technology, virtual bank, Myban...  ...  with its shareholding structure reshuffled tos...\n",
              "2081  Mybank, China, Technology, virtual bank, Myban...  ...  analysts say that toss bank has better chance ...\n",
              "2082  Mybank, China, Technology, virtual bank, Myban...  ...  at the same time toss bank does not have much ...\n",
              "2083  Mybank, China, Technology, virtual bank, Myban...  ...  sign up for our email newsletter and keep up t...\n",
              "\n",
              "[2022 rows x 4 columns]"
            ]
          },
          "metadata": {
            "tags": []
          },
          "execution_count": 96
        }
      ]
    },
    {
      "cell_type": "code",
      "metadata": {
        "id": "QzTuLC6z54Ki",
        "colab_type": "code",
        "outputId": "c91dbdbc-c28c-4dc8-af97-e9b8712f8010",
        "colab": {
          "base_uri": "https://localhost:8080/",
          "height": 204
        }
      },
      "source": [
        "dataset=data.drop(['contents'],axis=1)\n",
        "dataset.head()"
      ],
      "execution_count": 97,
      "outputs": [
        {
          "output_type": "execute_result",
          "data": {
            "text/html": [
              "<div>\n",
              "<style scoped>\n",
              "    .dataframe tbody tr th:only-of-type {\n",
              "        vertical-align: middle;\n",
              "    }\n",
              "\n",
              "    .dataframe tbody tr th {\n",
              "        vertical-align: top;\n",
              "    }\n",
              "\n",
              "    .dataframe thead th {\n",
              "        text-align: right;\n",
              "    }\n",
              "</style>\n",
              "<table border=\"1\" class=\"dataframe\">\n",
              "  <thead>\n",
              "    <tr style=\"text-align: right;\">\n",
              "      <th></th>\n",
              "      <th>keywords</th>\n",
              "      <th>target</th>\n",
              "      <th>cleaned_content</th>\n",
              "    </tr>\n",
              "  </thead>\n",
              "  <tbody>\n",
              "    <tr>\n",
              "      <th>0</th>\n",
              "      <td>virtual banks, south korea, k bank, kakao bank...</td>\n",
              "      <td>valid</td>\n",
              "      <td>the page provides the exchange rate of south k...</td>\n",
              "    </tr>\n",
              "    <tr>\n",
              "      <th>1</th>\n",
              "      <td>virus, epidemic, outbreak, company performance...</td>\n",
              "      <td>valid</td>\n",
              "      <td>convert currency krw to usd how much is south ...</td>\n",
              "    </tr>\n",
              "    <tr>\n",
              "      <th>2</th>\n",
              "      <td>Webank, China, Technology, virtual bank, weban...</td>\n",
              "      <td>valid</td>\n",
              "      <td>south korean won krw usd us dollar</td>\n",
              "    </tr>\n",
              "    <tr>\n",
              "      <th>3</th>\n",
              "      <td>Mybank, China, Technology, virtual bank, Myban...</td>\n",
              "      <td>valid</td>\n",
              "      <td></td>\n",
              "    </tr>\n",
              "    <tr>\n",
              "      <th>5</th>\n",
              "      <td>virtual banks, south korea, k bank, kakao bank...</td>\n",
              "      <td>valid</td>\n",
              "      <td>the page provides the exchange rate of south k...</td>\n",
              "    </tr>\n",
              "  </tbody>\n",
              "</table>\n",
              "</div>"
            ],
            "text/plain": [
              "                                            keywords  ...                                    cleaned_content\n",
              "0  virtual banks, south korea, k bank, kakao bank...  ...  the page provides the exchange rate of south k...\n",
              "1  virus, epidemic, outbreak, company performance...  ...  convert currency krw to usd how much is south ...\n",
              "2  Webank, China, Technology, virtual bank, weban...  ...                south korean won krw usd us dollar \n",
              "3  Mybank, China, Technology, virtual bank, Myban...  ...                                                   \n",
              "5  virtual banks, south korea, k bank, kakao bank...  ...  the page provides the exchange rate of south k...\n",
              "\n",
              "[5 rows x 3 columns]"
            ]
          },
          "metadata": {
            "tags": []
          },
          "execution_count": 97
        }
      ]
    },
    {
      "cell_type": "code",
      "metadata": {
        "id": "30d03G-863Xs",
        "colab_type": "code",
        "outputId": "679a9b70-ef97-4ec8-85c1-d51bd533e82c",
        "colab": {
          "base_uri": "https://localhost:8080/",
          "height": 88
        }
      },
      "source": [
        "import gensim.downloader as api\n",
        "word_vectors = api.load(\"glove-wiki-gigaword-100\")"
      ],
      "execution_count": 11,
      "outputs": [
        {
          "output_type": "stream",
          "text": [
            "[==============================================----] 94.0% 120.4/128.1MB downloaded\n"
          ],
          "name": "stdout"
        },
        {
          "output_type": "stream",
          "text": [
            "/usr/local/lib/python3.6/dist-packages/smart_open/smart_open_lib.py:410: UserWarning: This function is deprecated, use smart_open.open instead. See the migration notes for details: https://github.com/RaRe-Technologies/smart_open/blob/master/README.rst#migrating-to-the-new-open-function\n",
            "  'See the migration notes for details: %s' % _MIGRATION_NOTES_URL\n"
          ],
          "name": "stderr"
        }
      ]
    },
    {
      "cell_type": "code",
      "metadata": {
        "id": "E7GPF3aNu2HI",
        "colab_type": "code",
        "colab": {
          "base_uri": "https://localhost:8080/",
          "height": 1000
        },
        "outputId": "56db0af8-c4c6-4484-e64f-6c5c363a2e97"
      },
      "source": [
        "# build corpus\n",
        "def build_corpus(data):\n",
        "    \"Creates a list of lists containing words from each sentence\"\n",
        "    corpus = []\n",
        "    for col in ['keywords','cleaned_content']:\n",
        "        for sentence in data[col].iteritems():\n",
        "            word_list = sentence[1].split(\" \")\n",
        "            corpus.append(word_list)\n",
        "            \n",
        "    return corpus\n",
        "\n",
        "corpus = build_corpus(data)        \n",
        "corpus[0:2]"
      ],
      "execution_count": 98,
      "outputs": [
        {
          "output_type": "execute_result",
          "data": {
            "text/plain": [
              "[['virtual',\n",
              "  'banks,',\n",
              "  'south',\n",
              "  'korea,',\n",
              "  'k',\n",
              "  'bank,',\n",
              "  'kakao',\n",
              "  'bank,',\n",
              "  'toss,',\n",
              "  'funding',\n",
              "  'in',\n",
              "  'virtual',\n",
              "  'banks,',\n",
              "  'banking',\n",
              "  'population,',\n",
              "  'digital',\n",
              "  'banking',\n",
              "  'users,',\n",
              "  'smartphone',\n",
              "  'users,',\n",
              "  '',\n",
              "  'digital',\n",
              "  'loans,',\n",
              "  'online',\n",
              "  'deposits,',\n",
              "  'digital',\n",
              "  'only',\n",
              "  'banks,',\n",
              "  'virtual',\n",
              "  'bank',\n",
              "  'license,',\n",
              "  'FSC',\n",
              "  'south',\n",
              "  'korea,',\n",
              "  'virtual',\n",
              "  'bank',\n",
              "  'valuation'],\n",
              " ['virus,',\n",
              "  'epidemic,',\n",
              "  'outbreak,',\n",
              "  'company',\n",
              "  'performance,',\n",
              "  'healthcare,',\n",
              "  'aviation,',\n",
              "  'hospitality,',\n",
              "  'digital,',\n",
              "  'performance,',\n",
              "  'stock',\n",
              "  'price,',\n",
              "  'IPO,',\n",
              "  '',\n",
              "  'company',\n",
              "  'action,',\n",
              "  'company',\n",
              "  'decision,',\n",
              "  'effect,',\n",
              "  'affect,',\n",
              "  'adversity']]"
            ]
          },
          "metadata": {
            "tags": []
          },
          "execution_count": 98
        }
      ]
    },
    {
      "cell_type": "code",
      "metadata": {
        "id": "AHabqzQVxV2H",
        "colab_type": "code",
        "colab": {
          "base_uri": "https://localhost:8080/",
          "height": 374
        },
        "outputId": "11db1ceb-43f3-4eb3-e53d-06da25ce87b1"
      },
      "source": [
        "model = word2vec.Word2Vec(corpus, size=100, window=20, min_count=100, workers=4)\n",
        "model.wv['virtual']"
      ],
      "execution_count": 99,
      "outputs": [
        {
          "output_type": "execute_result",
          "data": {
            "text/plain": [
              "array([ 0.00846873,  0.15773775, -0.02375555, -0.02127615, -0.31966257,\n",
              "        0.0852065 ,  0.04139773,  0.32397214,  0.08908609, -0.02886861,\n",
              "        0.21472143,  0.23129393,  0.17011097, -0.0135476 ,  0.5359629 ,\n",
              "       -0.10997023, -0.30810177, -0.20221125,  0.13156343, -0.22712748,\n",
              "       -0.5662911 , -0.0363087 , -0.19879039, -0.4314417 ,  0.10844818,\n",
              "        0.11831441,  0.21893142,  0.23890898,  0.530087  , -0.09409627,\n",
              "       -0.16097817, -0.35371396, -0.5039678 , -0.44718343,  0.12414455,\n",
              "        0.7808135 , -0.11955527, -0.25844818,  0.3982087 ,  0.07684102,\n",
              "       -0.00143677,  0.03640412,  0.05006085, -0.46664798, -0.0259706 ,\n",
              "        0.13817517, -0.0383306 ,  0.04638405,  0.40279105, -0.22708124,\n",
              "        0.01460063,  0.00600673, -0.5455545 , -0.07706451, -0.54086405,\n",
              "        0.06268571, -0.16882837, -0.5023696 , -0.3637046 ,  0.13852768,\n",
              "       -0.4115392 , -0.6835466 , -0.43654513,  0.3307315 ,  0.00243692,\n",
              "        0.03558778,  0.8987395 ,  0.72129726,  0.21848509, -0.18120205,\n",
              "       -0.0138128 ,  0.28368235, -0.54250205,  0.2044812 ,  0.22279282,\n",
              "       -0.03122566,  0.45177904, -0.02244032, -0.22780938, -0.12841912,\n",
              "       -0.32746163, -0.42602727,  0.15603895,  0.57799697,  0.02608244,\n",
              "        0.10912956,  0.00844064, -0.01526546, -0.35502294,  0.46777213,\n",
              "        0.131709  , -0.13335718, -0.47192213, -0.27458096,  0.03813292,\n",
              "        0.65125084, -0.96286476, -0.04810931, -0.07521541,  0.1038238 ],\n",
              "      dtype=float32)"
            ]
          },
          "metadata": {
            "tags": []
          },
          "execution_count": 99
        }
      ]
    },
    {
      "cell_type": "code",
      "metadata": {
        "id": "KQI__E82xz3n",
        "colab_type": "code",
        "colab": {}
      },
      "source": [
        "def tsne_plot(model):\n",
        "    \"Creates and TSNE model and plots it\"\n",
        "    labels = []\n",
        "    tokens = []\n",
        "\n",
        "    for word in model.wv.vocab:\n",
        "        tokens.append(model[word])\n",
        "        labels.append(word)\n",
        "    \n",
        "    tsne_model = TSNE(perplexity=40, n_components=2, init='pca', n_iter=2500, random_state=23)\n",
        "    new_values = tsne_model.fit_transform(tokens)\n",
        "\n",
        "    x = []\n",
        "    y = []\n",
        "    for value in new_values:\n",
        "        x.append(value[0])\n",
        "        y.append(value[1])\n",
        "        \n",
        "    plt.figure(figsize=(16, 16)) \n",
        "    for i in range(len(x)):\n",
        "        plt.scatter(x[i],y[i])\n",
        "        plt.annotate(labels[i],\n",
        "                     xy=(x[i], y[i]),\n",
        "                     xytext=(5, 2),\n",
        "                     textcoords='offset points',\n",
        "                     ha='right',\n",
        "                     va='bottom')\n",
        "    plt.show()"
      ],
      "execution_count": 0,
      "outputs": []
    },
    {
      "cell_type": "code",
      "metadata": {
        "id": "kKnEr6klyVr5",
        "colab_type": "code",
        "colab": {
          "base_uri": "https://localhost:8080/",
          "height": 972
        },
        "outputId": "f3b4348f-5eab-4d21-9059-64cfcd89dccf"
      },
      "source": [
        "tsne_plot(model)"
      ],
      "execution_count": 101,
      "outputs": [
        {
          "output_type": "stream",
          "text": [
            "/usr/local/lib/python3.6/dist-packages/ipykernel_launcher.py:7: DeprecationWarning: Call to deprecated `__getitem__` (Method will be removed in 4.0.0, use self.wv.__getitem__() instead).\n",
            "  import sys\n"
          ],
          "name": "stderr"
        },
        {
          "output_type": "display_data",
          "data": {
            "image/png": "[encoded data removed]",
            "text/plain": [
              "<Figure size 1152x1152 with 1 Axes>"
            ]
          },
          "metadata": {
            "tags": [],
            "needs_background": "light"
          }
        }
      ]
    },
    {
      "cell_type": "code",
      "metadata": {
        "id": "JhVGgedW4jTe",
        "colab_type": "code",
        "colab": {
          "base_uri": "https://localhost:8080/",
          "height": 972
        },
        "outputId": "6f307832-604f-4fb1-ecb6-e1ea91f9d600"
      },
      "source": [
        "model = word2vec.Word2Vec(corpus, size=100, window=20, min_count=500, workers=4)\n",
        "tsne_plot(model)"
      ],
      "execution_count": 102,
      "outputs": [
        {
          "output_type": "stream",
          "text": [
            "/usr/local/lib/python3.6/dist-packages/ipykernel_launcher.py:7: DeprecationWarning: Call to deprecated `__getitem__` (Method will be removed in 4.0.0, use self.wv.__getitem__() instead).\n",
            "  import sys\n"
          ],
          "name": "stderr"
        },
        {
          "output_type": "display_data",
          "data": {
            "image/png": "[encoded data removed]",
            "text/plain": [
              "<Figure size 1152x1152 with 1 Axes>"
            ]
          },
          "metadata": {
            "tags": [],
            "needs_background": "light"
          }
        }
      ]
    },
    {
      "cell_type": "code",
      "metadata": {
        "id": "oo4RLD3Jy8Df",
        "colab_type": "code",
        "colab": {
          "base_uri": "https://localhost:8080/",
          "height": 275
        },
        "outputId": "48e68be4-1074-488a-dc5d-1f235a7872ff"
      },
      "source": [
        "model.most_similar('virtual')"
      ],
      "execution_count": 103,
      "outputs": [
        {
          "output_type": "stream",
          "text": [
            "/usr/local/lib/python3.6/dist-packages/ipykernel_launcher.py:1: DeprecationWarning: Call to deprecated `most_similar` (Method will be removed in 4.0.0, use self.wv.most_similar() instead).\n",
            "  \"\"\"Entry point for launching an IPython kernel.\n",
            "/usr/local/lib/python3.6/dist-packages/gensim/matutils.py:737: FutureWarning: Conversion of the second argument of issubdtype from `int` to `np.signedinteger` is deprecated. In future, it will be treated as `np.int64 == np.dtype(int).type`.\n",
            "  if np.issubdtype(vec.dtype, np.int):\n"
          ],
          "name": "stderr"
        },
        {
          "output_type": "execute_result",
          "data": {
            "text/plain": [
              "[('bank,', 0.9641432762145996),\n",
              " ('korea,', 0.8033844232559204),\n",
              " ('banks,', 0.7928144931793213),\n",
              " ('users,', 0.7838109731674194),\n",
              " ('digital', 0.7375202775001526),\n",
              " ('banking', 0.7144102454185486),\n",
              " ('south', 0.7098211646080017),\n",
              " ('Mybank', 0.6508842706680298),\n",
              " ('Mybank,', 0.6380349397659302),\n",
              " ('bank', 0.6379178762435913)]"
            ]
          },
          "metadata": {
            "tags": []
          },
          "execution_count": 103
        }
      ]
    },
    {
      "cell_type": "code",
      "metadata": {
        "id": "ikj7_eJj_HaW",
        "colab_type": "code",
        "outputId": "e0072e50-200a-457b-c4fd-23b9659ca23a",
        "colab": {
          "base_uri": "https://localhost:8080/",
          "height": 34
        }
      },
      "source": [
        "similarity = word_vectors.wmdistance(dataset.keywords[1], dataset.cleaned_content[24])\n",
        "print(\"score between keywords and contents: {:.6f}\".format(similarity))\n"
      ],
      "execution_count": 118,
      "outputs": [
        {
          "output_type": "stream",
          "text": [
            "score between keywords and contents: 1.344963\n"
          ],
          "name": "stdout"
        }
      ]
    },
    {
      "cell_type": "code",
      "metadata": {
        "id": "8dI6uKDC2klo",
        "colab_type": "code",
        "colab": {
          "base_uri": "https://localhost:8080/",
          "height": 71
        },
        "outputId": "03d93cbc-e488-4bcc-cbde-7e98aab2cc46"
      },
      "source": [
        "a=print(dataset.keywords[1])\n",
        "b=print(dataset.cleaned_content[24])\n"
      ],
      "execution_count": 119,
      "outputs": [
        {
          "output_type": "stream",
          "text": [
            "virus, epidemic, outbreak, company performance, healthcare, aviation, hospitality, digital, performance, stock price, IPO,  company action, company decision, effect, affect, adversity\n",
            "what is it that is making consumers so enthusiastic about kakao bank replies on sns and on internet investment boards show the bank appeal lies in its cheap prices modern interface and convenience \n"
          ],
          "name": "stdout"
        }
      ]
    }
  ]
}